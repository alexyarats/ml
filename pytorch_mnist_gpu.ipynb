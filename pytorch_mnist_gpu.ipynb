{
  "nbformat": 4,
  "nbformat_minor": 0,
  "metadata": {
    "colab": {
      "name": "pytorch_mnist_gpu",
      "version": "0.3.2",
      "provenance": [],
      "include_colab_link": true
    },
    "kernelspec": {
      "name": "python3",
      "display_name": "Python 3"
    },
    "accelerator": "GPU"
  },
  "cells": [
    {
      "cell_type": "markdown",
      "metadata": {
        "id": "view-in-github",
        "colab_type": "text"
      },
      "source": [
        "[View in Colaboratory](https://colab.research.google.com/github/alexyarats/ml/blob/master/pytorch_mnist_gpu.ipynb)"
      ]
    },
    {
      "metadata": {
        "id": "Dkn9JPl32R-o",
        "colab_type": "code",
        "colab": {}
      },
      "cell_type": "code",
      "source": [
        "!pip3 install http://download.pytorch.org/whl/cu80/torch-0.4.1-cp36-cp36m-linux_x86_64.whl"
      ],
      "execution_count": 0,
      "outputs": []
    },
    {
      "metadata": {
        "id": "Ua8e25RG2qoh",
        "colab_type": "code",
        "colab": {}
      },
      "cell_type": "code",
      "source": [
        "!pip3 install torchvision"
      ],
      "execution_count": 0,
      "outputs": []
    },
    {
      "metadata": {
        "id": "Ej941aAI28VQ",
        "colab_type": "code",
        "colab": {}
      },
      "cell_type": "code",
      "source": [
        "import torch\n",
        "import torch.nn as nn\n",
        "import torch.nn.functional as F\n",
        "import torch.optim as optim\n",
        "import torchvision\n",
        "import torchvision.transforms as T\n",
        "import numpy as np\n",
        "import pandas as pd\n",
        "import matplotlib.pyplot as plt\n",
        "from tensorflow.python.data import Dataset\n",
        "from sklearn.metrics import accuracy_score\n",
        "%matplotlib inline"
      ],
      "execution_count": 0,
      "outputs": []
    },
    {
      "metadata": {
        "id": "KdqgjCKwsZci",
        "colab_type": "code",
        "colab": {}
      },
      "cell_type": "code",
      "source": [
        "def get_mnist(train=True, shuffle=True):\n",
        "  transform = T.Compose([\n",
        "    T.ToTensor(),\n",
        "    T.Normalize((0.1307,), (0.3081,))\n",
        "  ])\n",
        "  \n",
        "  dataset = torchvision.datasets.MNIST('/tmp', train=train, download=True, transform=transform)\n",
        "  loader = torch.utils.data.DataLoader(dataset, batch_size=32, shuffle=shuffle)\n",
        "  \n",
        "  return loader"
      ],
      "execution_count": 0,
      "outputs": []
    },
    {
      "metadata": {
        "id": "4ENkpP6-urLV",
        "colab_type": "code",
        "colab": {}
      },
      "cell_type": "code",
      "source": [
        "train_loader = get_mnist()\n",
        "test_loader = get_mnist(train=False)"
      ],
      "execution_count": 0,
      "outputs": []
    },
    {
      "metadata": {
        "id": "qw3zDLxkxeE1",
        "colab_type": "code",
        "colab": {}
      },
      "cell_type": "code",
      "source": [
        "def train(model, optimizer, epoch, train_loader, device, train_losses, train_accuracy):\n",
        "  train_loss = 0\n",
        "  correct = 0\n",
        "  for i, (x, y) in enumerate(train_loader):\n",
        "    x, y = x.to(device), y.to(device)\n",
        "    \n",
        "    optimizer.zero_grad()\n",
        "    y_hat = model.forward(x)\n",
        "    \n",
        "    loss = criterion(y_hat, y)\n",
        "    loss.backward()\n",
        "    train_loss += loss.item()\n",
        "    \n",
        "    optimizer.step()\n",
        "    \n",
        "    pred = y_hat.max(1, keepdim=True)[1]\n",
        "    correct += pred.eq(y.view_as(pred)).sum().item()\n",
        "  \n",
        "  train_loss /= len(train_loader.dataset)\n",
        "  train_losses.append(train_loss)\n",
        "  \n",
        "  correct /= len(test_loader.dataset)\n",
        "  train_accuracy.append(correct)\n",
        "  \n",
        "  if epoch % 10 == 0:\n",
        "    print('average train_loss: %.5f' % train_loss)"
      ],
      "execution_count": 0,
      "outputs": []
    },
    {
      "metadata": {
        "id": "Yfqk6u8fzxy_",
        "colab_type": "code",
        "colab": {}
      },
      "cell_type": "code",
      "source": [
        "def test(mode, epoch, test_loader, device, test_losses, test_accuracy):\n",
        "  test_loss = 0\n",
        "  correct = 0\n",
        "  for x, y in test_loader:\n",
        "    x, y = x.to(device), y.to(device)\n",
        "    \n",
        "    y_hat = model.forward(x)\n",
        "  \n",
        "    loss = criterion(y_hat, y)\n",
        "    test_loss += loss.item()\n",
        "    \n",
        "    pred = y_hat.max(1, keepdim=True)[1]\n",
        "    correct += pred.eq(y.view_as(pred)).sum().item()\n",
        "    \n",
        "  test_loss /= len(test_loader.dataset)\n",
        "  test_losses.append(test_loss)\n",
        "  \n",
        "  correct /= len(test_loader.dataset)\n",
        "  test_accuracy.append(correct)\n",
        "  \n",
        "  if epoch % 10 == 0:\n",
        "    print('average test_loss: %.5f' % test_loss)\n",
        "    print('accuracy: %.5f' % correct)"
      ],
      "execution_count": 0,
      "outputs": []
    },
    {
      "metadata": {
        "id": "njTNfuDE7Vbi",
        "colab_type": "code",
        "colab": {}
      },
      "cell_type": "code",
      "source": [
        "def build_graph(train, test, x_label, y_label):\n",
        "  plt.xlabel(x_label)\n",
        "  plt.ylabel(y_label)\n",
        "  plt.title(x_label + ' vs. ' + y_label)\n",
        "  plt.tight_layout()\n",
        "  plt.plot(train, label=\"train\")\n",
        "  plt.plot(test, label=\"test\")\n",
        "  plt.legend()"
      ],
      "execution_count": 0,
      "outputs": []
    },
    {
      "metadata": {
        "id": "NRG6Azry3UF6",
        "colab_type": "code",
        "colab": {}
      },
      "cell_type": "code",
      "source": [
        "class MLP(nn.Module):\n",
        "  def __init__(self):\n",
        "    super(MLP, self).__init__()\n",
        "    self.linear1 = nn.Linear(784, 100)\n",
        "    self.linear2 = nn.Linear(100, 10)\n",
        "    self.tanh = nn.Tanh()\n",
        "\n",
        "  def forward(self, x):\n",
        "    x = self.linear1(x.view(x.size(0), -1))\n",
        "    x = self.tanh(x)\n",
        "    x = self.linear2(x)\n",
        "    return F.softmax(x, dim=1)"
      ],
      "execution_count": 0,
      "outputs": []
    },
    {
      "metadata": {
        "id": "tpWS7i8S4itt",
        "colab_type": "code",
        "colab": {
          "base_uri": "https://localhost:8080/",
          "height": 807
        },
        "outputId": "32f1a262-914f-444e-cec6-cd287c264d22"
      },
      "cell_type": "code",
      "source": [
        "model = MLP().cuda()\n",
        "criterion = nn.CrossEntropyLoss()\n",
        "optimizer = optim.SGD(model.parameters(), lr=0.03)\n",
        "\n",
        "train_losses, test_losses = [], []\n",
        "train_accuracy, test_accuracy = [], []\n",
        "\n",
        "for epoch in range(100):\n",
        "  train(model, optimizer, epoch, train_loader, 'cuda', train_losses, train_accuracy)\n",
        "  test(model, epoch, test_loader, 'cuda', test_losses, test_accuracy)\n",
        "  \n",
        "build_graph(train_losses, test_losses, 'epoch', 'loss')\n",
        "#build_graph(train_accuracy, test_accuracy, 'epoch', 'accuracy')"
      ],
      "execution_count": 82,
      "outputs": [
        {
          "output_type": "stream",
          "text": [
            "average train_loss: 0.05320\n",
            "average test_loss: 0.04934\n",
            "accuracy: 0.91300\n",
            "average train_loss: 0.04711\n",
            "average test_loss: 0.04730\n",
            "accuracy: 0.95830\n",
            "average train_loss: 0.04664\n",
            "average test_loss: 0.04698\n",
            "accuracy: 0.96660\n",
            "average train_loss: 0.04640\n",
            "average test_loss: 0.04684\n",
            "accuracy: 0.97110\n",
            "average train_loss: 0.04626\n",
            "average test_loss: 0.04677\n",
            "accuracy: 0.97280\n",
            "average train_loss: 0.04617\n",
            "average test_loss: 0.04672\n",
            "accuracy: 0.97310\n",
            "average train_loss: 0.04611\n",
            "average test_loss: 0.04669\n",
            "accuracy: 0.97330\n",
            "average train_loss: 0.04607\n",
            "average test_loss: 0.04667\n",
            "accuracy: 0.97390\n",
            "average train_loss: 0.04604\n",
            "average test_loss: 0.04666\n",
            "accuracy: 0.97400\n",
            "average train_loss: 0.04601\n",
            "average test_loss: 0.04664\n",
            "accuracy: 0.97430\n"
          ],
          "name": "stdout"
        },
        {
          "output_type": "display_data",
          "data": {
            "image/png": "[encoded data removed]",
            "text/plain": [
              "<matplotlib.figure.Figure at 0x7fdf41a56438>"
            ]
          },
          "metadata": {
            "tags": []
          }
        }
      ]
    },
    {
      "metadata": {
        "id": "9efR5NWj56d0",
        "colab_type": "code",
        "colab": {}
      },
      "cell_type": "code",
      "source": [
        ""
      ],
      "execution_count": 0,
      "outputs": []
    }
  ]
}